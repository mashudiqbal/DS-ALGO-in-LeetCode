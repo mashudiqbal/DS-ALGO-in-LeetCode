{
 "cells": [
  {
   "cell_type": "markdown",
   "id": "2accc770",
   "metadata": {},
   "source": [
    "# LC 1 : two sum"
   ]
  },
  {
   "cell_type": "code",
   "execution_count": 1,
   "id": "a8faa098",
   "metadata": {},
   "outputs": [],
   "source": [
    "# Statement: Given an array of integers nums and an integer target,\n",
    "#            return indices of the two numbers such that they add up to target"
   ]
  },
  {
   "cell_type": "code",
   "execution_count": 21,
   "id": "1a83a60c",
   "metadata": {},
   "outputs": [
    {
     "name": "stdout",
     "output_type": "stream",
     "text": [
      "[2, 4]\n"
     ]
    }
   ],
   "source": [
    "# bruteforce solution\n",
    "# checking each items\n",
    "\n",
    "ar = [2,3,4,5,6]\n",
    "t  = 10\n",
    "\n",
    "for i in range(len(ar)):\n",
    "    a = ar[i]\n",
    "    for num in ar:\n",
    "        if num+a == t:\n",
    "            if num != a:\n",
    "                print([ar.index(a),ar.index(num)])\n",
    "                break\n",
    "    else:\n",
    "        continue\n",
    "    break\n",
    "    \n",
    "# When the inner loop ends normally without break,\n",
    "# continue in else clause is executed.\n",
    "# This continue is for the outer loop,\n",
    "# and skips break in the outer loop and continues to the next cycle.\n",
    "# When the inner loop ends with break,\n",
    "# continue in else clause is not executed.\n",
    "# In this case, break in the outer loop is executed.\n",
    "# As a result, whenever the inner loop ends with break,\n",
    "# break in the outer loop is also executed."
   ]
  },
  {
   "cell_type": "code",
   "execution_count": 38,
   "id": "76317468",
   "metadata": {},
   "outputs": [
    {
     "name": "stdout",
     "output_type": "stream",
     "text": [
      "[1, 2]\n"
     ]
    }
   ],
   "source": [
    "# now write it as a func/ class \n",
    "class Solution:\n",
    "    def twosum(self,ar,t):\n",
    "        for i in range(len(ar)):\n",
    "            a = ar[i]\n",
    "            for num in ar:\n",
    "                if num+a == t:\n",
    "                    if num != a:\n",
    "                        return([ar.index(a),ar.index(num)])\n",
    "    \n",
    "test_case = Solution()    \n",
    "ar = [3,4,6]\n",
    "print(test_case.twosum(ar, 10))\n",
    "\n",
    "# problem is shob testcase pass korena eg: [3,3] t 6 | ib reason is num !=a\n",
    "\n",
    "# result -> WA , 47/54 test cases passed"
   ]
  },
  {
   "cell_type": "code",
   "execution_count": 39,
   "id": "bf6420cb",
   "metadata": {},
   "outputs": [
    {
     "name": "stdout",
     "output_type": "stream",
     "text": [
      "[0, 1]\n"
     ]
    }
   ],
   "source": [
    "# double nest a loop over the list\n",
    "# where the inner loop only looks at index greater than\n",
    "# what the outer loop is currently on.\n",
    "\n",
    "# taile num != a ke avoid kora gelo\n",
    "\n",
    "class Solution:\n",
    "    def twoSum(self, nums, target):\n",
    "        for i, a in enumerate(nums, start=0):           # enumerate() works with index\n",
    "            for j, b in enumerate(nums[i+1:], start=0): # doesnt look at the same twice, goes for the  next [slicing:]\n",
    "                if a+b == target:\n",
    "                    return [i, j+i+1]  # 'i' is the indexof a, 'j' is of b. as we're starting after i+1 in 2nd loop\n",
    "                                       # but initiating it starts = 0, real index is 'i+1' position behind  \n",
    "\n",
    "test_case = Solution()\n",
    "array = [3,3]\n",
    "print(test_case.twoSum(array, 6))\n",
    "\n",
    "# result -> accepted, 3780ms, 14.9mb, O(n^2)"
   ]
  },
  {
   "cell_type": "code",
   "execution_count": 2,
   "id": "bc5c538f",
   "metadata": {},
   "outputs": [
    {
     "name": "stdout",
     "output_type": "stream",
     "text": [
      "[0, 2]\n"
     ]
    }
   ],
   "source": [
    "# minimizing complexity using less loops\n",
    "\n",
    "# leetcode hint 2: value-x\n",
    "# val = target - x, amra ei val kei khuje ber korbo\n",
    "# val gulare key:value pair kore dictionary te rakhbo. key= index position in the array\n",
    "# if kono iteration e val dictionary te thake, taile tar key return kore dekhaye dibo\n",
    "\n",
    "class Solution(object):\n",
    "    def twoSum(self, nums, target):\n",
    "        dict_of_x={}\n",
    "        len_of_nums=len(nums)\n",
    "        i=0\n",
    "        while i<len_of_nums:\n",
    "            val= target - nums[i]\n",
    "            if(val in dict_of_x):\n",
    "                return [dict_of_x[val],i]\n",
    "            dict_of_x[nums[i]]=i\n",
    "            i+=1\n",
    "            \n",
    "test_case = Solution()\n",
    "array = [3,4,6,7]\n",
    "print(test_case.twoSum(array, 9))\n",
    "\n",
    "# result : accepted, 14ms, 15mb+. O(n) 1 whileloop only."
   ]
  },
  {
   "cell_type": "code",
   "execution_count": null,
   "id": "77fd3f9b",
   "metadata": {},
   "outputs": [],
   "source": []
  }
 ],
 "metadata": {
  "kernelspec": {
   "display_name": "Python 3",
   "language": "python",
   "name": "python3"
  },
  "language_info": {
   "codemirror_mode": {
    "name": "ipython",
    "version": 3
   },
   "file_extension": ".py",
   "mimetype": "text/x-python",
   "name": "python",
   "nbconvert_exporter": "python",
   "pygments_lexer": "ipython3",
   "version": "3.8.8"
  }
 },
 "nbformat": 4,
 "nbformat_minor": 5
}
